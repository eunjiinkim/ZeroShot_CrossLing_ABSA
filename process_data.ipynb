{
 "cells": [
  {
   "cell_type": "code",
   "execution_count": 1,
   "metadata": {},
   "outputs": [],
   "source": [
    "from datasets import load_dataset"
   ]
  },
  {
   "cell_type": "code",
   "execution_count": 3,
   "metadata": {
    "scrolled": true
   },
   "outputs": [
    {
     "name": "stderr",
     "output_type": "stream",
     "text": [
      "Found cached dataset sem_eval2016_task5_raw (/home/eunjin/.cache/huggingface/datasets/Yaxin___sem_eval2016_task5_raw/restaurants_dutch/0.0.1/c28216cf58dd6bcb347f4819d7f8f89c8cf976381797c7100cd46a530c8c3784)\n"
     ]
    },
    {
     "data": {
      "application/vnd.jupyter.widget-view+json": {
       "model_id": "964af40baf764960a3b004568123c68d",
       "version_major": 2,
       "version_minor": 0
      },
      "text/plain": [
       "  0%|          | 0/3 [00:00<?, ?it/s]"
      ]
     },
     "metadata": {},
     "output_type": "display_data"
    }
   ],
   "source": [
    "datasets = load_dataset('Yaxin/SemEval2016Task5Raw','restaurants_dutch')"
   ]
  },
  {
   "cell_type": "code",
   "execution_count": 5,
   "metadata": {
    "scrolled": true
   },
   "outputs": [
    {
     "data": {
      "text/plain": [
       "'Het ligt wel iets buiten het centrum , maar de wandeling wordt beloond met een zeer goede maaltijd .'"
      ]
     },
     "execution_count": 5,
     "metadata": {},
     "output_type": "execute_result"
    }
   ],
   "source": [
    "datasets['validation']['text'][5]"
   ]
  },
  {
   "cell_type": "code",
   "execution_count": 6,
   "metadata": {},
   "outputs": [
    {
     "data": {
      "text/plain": [
       "[{'category': 'LOCATION#GENERAL',\n",
       "  'from': '0',\n",
       "  'polarity': 'positive',\n",
       "  'target': 'null',\n",
       "  'to': '0'},\n",
       " {'category': 'FOOD#QUALITY',\n",
       "  'from': '90',\n",
       "  'polarity': 'positive',\n",
       "  'target': 'maaltijd',\n",
       "  'to': '98'}]"
      ]
     },
     "execution_count": 6,
     "metadata": {},
     "output_type": "execute_result"
    }
   ],
   "source": [
    "datasets['validation']['opinions'][5]"
   ]
  },
  {
   "cell_type": "code",
   "execution_count": 9,
   "metadata": {},
   "outputs": [],
   "source": [
    "import pandas as pd"
   ]
  },
  {
   "cell_type": "code",
   "execution_count": 10,
   "metadata": {},
   "outputs": [],
   "source": [
    "def make_temp_review(sent, start, end):\n",
    "    sent += ' '\n",
    "    end_idx = 0\n",
    "    while sent[end+end_idx] != ' ':\n",
    "        end_idx += 1\n",
    "    return sent[:start] +'[SEP]'+ sent[start:end+end_idx] + '[SEP]' + sent[end+end_idx:]\n"
   ]
  },
  {
   "cell_type": "code",
   "execution_count": null,
   "metadata": {},
   "outputs": [],
   "source": []
  },
  {
   "cell_type": "code",
   "execution_count": 11,
   "metadata": {},
   "outputs": [],
   "source": [
    "def make_bioes(sent, tags, pol):\n",
    "    b=False\n",
    "    for i , t in enumerate(sent.split()):\n",
    "        if tags[i] != 'O':\n",
    "            continue\n",
    "        if t[:5]=='[SEP]' and t[-5:]=='[SEP]':\n",
    "            tags[i]=f'S-{pol}'\n",
    "        elif t[:5]=='[SEP]' and t[-5:]!='[SEP]':\n",
    "            tags[i]=f'B-{pol}'\n",
    "            b=True\n",
    "        elif t[:5]!='[SEP]' and t[-5:]=='[SEP]':\n",
    "            tags[i]=f'E-{pol}'\n",
    "            b=False\n",
    "        elif  t[:5]!='[SEP]' and t[-5:]!='[SEP]' and b:\n",
    "            tags[i]=f'I-{pol}'\n",
    "        else:\n",
    "            tags[i]='O'\n",
    "    return tags"
   ]
  },
  {
   "cell_type": "code",
   "execution_count": null,
   "metadata": {},
   "outputs": [],
   "source": []
  },
  {
   "cell_type": "code",
   "execution_count": 12,
   "metadata": {},
   "outputs": [],
   "source": [
    "def process_data(lang):\n",
    "    dataset = load_dataset('Yaxin/SemEval2016Task5Raw',f'restaurants_{lang}')\n",
    "    for mode in ['train','validation','test']:\n",
    "        data = dataset[mode]\n",
    "        new_df = pd.DataFrame(columns=['review','target','polarity', 'tags'])\n",
    "        review= []\n",
    "        targets = []\n",
    "        pols = []\n",
    "        tags = []\n",
    "        for i, row in enumerate(data['opinions']):\n",
    "            row = sorted(row, key=lambda x: x['from'])\n",
    "            temp_from=[]\n",
    "            temp_to=[]\n",
    "            temp_target = []\n",
    "            temp_pol = []\n",
    "            for j in range(len(row)):\n",
    "                if row[j]['target']!='NULL' and row[j]['target']!='null':\n",
    "                    if int(row[j]['from']) in temp_from:\n",
    "                        continue\n",
    "                    temp_from.append(int(row[j]['from']))\n",
    "                    temp_to.append(int(row[j]['to']))\n",
    "                    temp_target.append(row[j]['target'])\n",
    "                    temp_pol.append(row[j]['polarity'])\n",
    "            \n",
    "            if temp_target:\n",
    "                temp_tags = ['O' for _ in range(len(data['text'][i].split()))]\n",
    "                for k, p in enumerate(temp_pol):\n",
    "                    temp_sent = make_temp_review( data['text'][i], temp_from[k],temp_to[k])\n",
    "                    temp_tags = make_bioes(temp_sent.strip(), temp_tags, p)\n",
    "                tags.append(' '.join(temp_tags))\n",
    "                targets.append('<&>'.join(temp_target))\n",
    "                pols.append('<&>'.join(temp_pol))\n",
    "                review.append(data['text'][i])\n",
    "        \n",
    "        new_df['tags']=tags\n",
    "        new_df['review']=review\n",
    "        new_df['target']=targets\n",
    "        new_df['polarity']=pols\n",
    "        new_df.to_csv(f'datasets/res_{lang}_{mode}.tsv',sep='\\t',index=False)\n",
    "        print('DONE in {}'.format(mode))"
   ]
  },
  {
   "cell_type": "code",
   "execution_count": 13,
   "metadata": {},
   "outputs": [
    {
     "name": "stderr",
     "output_type": "stream",
     "text": [
      "Found cached dataset sem_eval2016_task5_raw (/home/eunjin/.cache/huggingface/datasets/Yaxin___sem_eval2016_task5_raw/restaurants_dutch/0.0.1/c28216cf58dd6bcb347f4819d7f8f89c8cf976381797c7100cd46a530c8c3784)\n"
     ]
    },
    {
     "data": {
      "application/vnd.jupyter.widget-view+json": {
       "model_id": "9589e5088c514dbebb3721a5e18b9e33",
       "version_major": 2,
       "version_minor": 0
      },
      "text/plain": [
       "  0%|          | 0/3 [00:00<?, ?it/s]"
      ]
     },
     "metadata": {},
     "output_type": "display_data"
    },
    {
     "name": "stdout",
     "output_type": "stream",
     "text": [
      "DONE in train\n",
      "DONE in validation\n",
      "DONE in test\n"
     ]
    }
   ],
   "source": [
    "process_data('dutch')"
   ]
  },
  {
   "cell_type": "code",
   "execution_count": 14,
   "metadata": {
    "scrolled": true
   },
   "outputs": [
    {
     "name": "stderr",
     "output_type": "stream",
     "text": [
      "Found cached dataset sem_eval2016_task5_raw (/home/eunjin/.cache/huggingface/datasets/Yaxin___sem_eval2016_task5_raw/restaurants_english/0.0.1/c28216cf58dd6bcb347f4819d7f8f89c8cf976381797c7100cd46a530c8c3784)\n"
     ]
    },
    {
     "data": {
      "application/vnd.jupyter.widget-view+json": {
       "model_id": "aac4725fcc83435981a8aba15465717d",
       "version_major": 2,
       "version_minor": 0
      },
      "text/plain": [
       "  0%|          | 0/3 [00:00<?, ?it/s]"
      ]
     },
     "metadata": {},
     "output_type": "display_data"
    },
    {
     "name": "stdout",
     "output_type": "stream",
     "text": [
      "DONE in train\n",
      "DONE in validation\n",
      "DONE in test\n",
      "----english----\n"
     ]
    },
    {
     "name": "stderr",
     "output_type": "stream",
     "text": [
      "Found cached dataset sem_eval2016_task5_raw (/home/eunjin/.cache/huggingface/datasets/Yaxin___sem_eval2016_task5_raw/restaurants_french/0.0.1/c28216cf58dd6bcb347f4819d7f8f89c8cf976381797c7100cd46a530c8c3784)\n"
     ]
    },
    {
     "data": {
      "application/vnd.jupyter.widget-view+json": {
       "model_id": "4f6f00555f4c4a7cb0d9a3507e7ad410",
       "version_major": 2,
       "version_minor": 0
      },
      "text/plain": [
       "  0%|          | 0/3 [00:00<?, ?it/s]"
      ]
     },
     "metadata": {},
     "output_type": "display_data"
    },
    {
     "name": "stdout",
     "output_type": "stream",
     "text": [
      "DONE in train\n",
      "DONE in validation\n",
      "DONE in test\n",
      "----french----\n"
     ]
    },
    {
     "name": "stderr",
     "output_type": "stream",
     "text": [
      "Found cached dataset sem_eval2016_task5_raw (/home/eunjin/.cache/huggingface/datasets/Yaxin___sem_eval2016_task5_raw/restaurants_spanish/0.0.1/c28216cf58dd6bcb347f4819d7f8f89c8cf976381797c7100cd46a530c8c3784)\n"
     ]
    },
    {
     "data": {
      "application/vnd.jupyter.widget-view+json": {
       "model_id": "04ff949905664473a9828448d2260c98",
       "version_major": 2,
       "version_minor": 0
      },
      "text/plain": [
       "  0%|          | 0/3 [00:00<?, ?it/s]"
      ]
     },
     "metadata": {},
     "output_type": "display_data"
    },
    {
     "name": "stdout",
     "output_type": "stream",
     "text": [
      "DONE in train\n",
      "DONE in validation\n",
      "DONE in test\n",
      "----spanish----\n"
     ]
    },
    {
     "name": "stderr",
     "output_type": "stream",
     "text": [
      "Found cached dataset sem_eval2016_task5_raw (/home/eunjin/.cache/huggingface/datasets/Yaxin___sem_eval2016_task5_raw/restaurants_russian/0.0.1/c28216cf58dd6bcb347f4819d7f8f89c8cf976381797c7100cd46a530c8c3784)\n"
     ]
    },
    {
     "data": {
      "application/vnd.jupyter.widget-view+json": {
       "model_id": "214af00438e443deb63138b8ef4c8df6",
       "version_major": 2,
       "version_minor": 0
      },
      "text/plain": [
       "  0%|          | 0/3 [00:00<?, ?it/s]"
      ]
     },
     "metadata": {},
     "output_type": "display_data"
    },
    {
     "name": "stdout",
     "output_type": "stream",
     "text": [
      "DONE in train\n",
      "DONE in validation\n",
      "DONE in test\n",
      "----russian----\n"
     ]
    }
   ],
   "source": [
    "for lang in ['english','french','spanish','russian']:\n",
    "    process_data(lang)\n",
    "    print('----{}----'.format(lang))"
   ]
  },
  {
   "cell_type": "code",
   "execution_count": 17,
   "metadata": {},
   "outputs": [],
   "source": [
    "def new_tagging(lang):\n",
    "    \n",
    "    for mode in ['train','validation']:\n",
    "        en_df = pd.read_csv(f'datasets/res_english_{mode}.tsv',sep='\\t')\n",
    "        target_df = pd.read_csv(f'datasets/res_english_{mode}_in_{lang}.tsv',sep='\\t')\n",
    "        target_df['tags'] = en_df['tags'].tolist()\n",
    "        target_df.to_csv(f'datasets/res_english_{mode}_in_{lang}.tsv',sep='\\t',index=False)\n",
    "        print('DONE in {}'.format(mode))"
   ]
  },
  {
   "cell_type": "code",
   "execution_count": 18,
   "metadata": {},
   "outputs": [
    {
     "name": "stdout",
     "output_type": "stream",
     "text": [
      "DONE in train\n",
      "DONE in validation\n",
      "----french----\n",
      "DONE in train\n",
      "DONE in validation\n",
      "----spanish----\n",
      "DONE in train\n",
      "DONE in validation\n",
      "----russian----\n",
      "DONE in train\n",
      "DONE in validation\n",
      "----dutch----\n"
     ]
    }
   ],
   "source": [
    "for lang in ['french','spanish','russian','dutch']:\n",
    "    new_tagging(lang)\n",
    "    print('----{}----'.format(lang))"
   ]
  },
  {
   "cell_type": "code",
   "execution_count": null,
   "metadata": {},
   "outputs": [],
   "source": []
  }
 ],
 "metadata": {
  "kernelspec": {
   "display_name": "Python 3 (ipykernel)",
   "language": "python",
   "name": "python3"
  },
  "language_info": {
   "codemirror_mode": {
    "name": "ipython",
    "version": 3
   },
   "file_extension": ".py",
   "mimetype": "text/x-python",
   "name": "python",
   "nbconvert_exporter": "python",
   "pygments_lexer": "ipython3",
   "version": "3.9.7"
  }
 },
 "nbformat": 4,
 "nbformat_minor": 2
}
